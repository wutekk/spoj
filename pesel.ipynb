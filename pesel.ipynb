{
 "cells": [
  {
   "cell_type": "code",
   "execution_count": 4,
   "metadata": {},
   "outputs": [
    {
     "name": "stdout",
     "output_type": "stream",
     "text": [
      "D\n"
     ]
    }
   ],
   "source": [
    "t = int(input())\n",
    "for i in range(t):\n",
    "    pesel = list(input())\n",
    "    liczby = []\n",
    "    for li in pesel:\n",
    "        liczby.append(int(li))\n",
    "\n",
    "    suma = \\\n",
    "    liczby[0] * 1 \\\n",
    "    + liczby[1] * 3 \\\n",
    "    + liczby[2] * 7 \\\n",
    "    + liczby[3] * 9 \\\n",
    "    + liczby[4] * 1 \\\n",
    "    + liczby[5] * 3 \\\n",
    "    + liczby[6] * 7 \\\n",
    "    + liczby[7] * 9 \\\n",
    "    + liczby[8] * 1 \\\n",
    "    + liczby[9] * 3 \\\n",
    "    + liczby[10] * 1\n",
    "    if suma > 0 and suma % 10 == 0:\n",
    "        print('D')\n",
    "    else:\n",
    "        print('N')\n",
    "\n"
   ]
  },
  {
   "cell_type": "code",
   "execution_count": 6,
   "metadata": {},
   "outputs": [
    {
     "name": "stdout",
     "output_type": "stream",
     "text": [
      "N\n"
     ]
    }
   ],
   "source": [
    "t = int(input())\n",
    "for i in range(t):\n",
    "    pesel = list(input())\n",
    "    suma = 0\n",
    "    wagi = [1, 3, 7, 9, 1, 3, 7, 9, 1, 3, 1]\n",
    "    for i in range(len(pesel)):\n",
    "        suma += int(pesel[i]) * wagi[i]\n",
    "\n",
    "    if suma > 0 and suma % 10 == 0:\n",
    "        print('D')\n",
    "    else:\n",
    "        print('N')\n"
   ]
  }
 ],
 "metadata": {
  "kernelspec": {
   "display_name": "Python 3",
   "language": "python",
   "name": "python3"
  },
  "language_info": {
   "codemirror_mode": {
    "name": "ipython",
    "version": 3
   },
   "file_extension": ".py",
   "mimetype": "text/x-python",
   "name": "python",
   "nbconvert_exporter": "python",
   "pygments_lexer": "ipython3",
   "version": "3.10.7"
  }
 },
 "nbformat": 4,
 "nbformat_minor": 2
}
